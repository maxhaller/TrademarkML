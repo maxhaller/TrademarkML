{
 "cells": [
  {
   "cell_type": "code",
   "execution_count": 3,
   "metadata": {
    "collapsed": true,
    "ExecuteTime": {
     "start_time": "2023-11-08T20:06:33.376957Z",
     "end_time": "2023-11-08T20:06:33.512921Z"
    }
   },
   "outputs": [],
   "source": [
    "import fasttext\n",
    "from scipy import spatial"
   ]
  },
  {
   "cell_type": "code",
   "execution_count": 2,
   "outputs": [],
   "source": [
    "import fasttext.util\n",
    "ft = fasttext.load_model('D://wiki.en.bin')"
   ],
   "metadata": {
    "collapsed": false
   }
  },
  {
   "cell_type": "code",
   "execution_count": 4,
   "outputs": [
    {
     "data": {
      "text/plain": "0.23263603448867798"
     },
     "execution_count": 4,
     "metadata": {},
     "output_type": "execute_result"
    }
   ],
   "source": [
    "v1 = ft.get_sentence_vector('hello my name is max')\n",
    "v2 = ft.get_sentence_vector('hello my name is jakob')"
   ],
   "metadata": {
    "collapsed": false,
    "ExecuteTime": {
     "start_time": "2023-11-08T20:07:04.222354Z",
     "end_time": "2023-11-08T20:07:05.907866Z"
    }
   }
  },
  {
   "cell_type": "code",
   "execution_count": 7,
   "outputs": [],
   "source": [
    "import numpy as np\n",
    "def cos_sim(a, b):\n",
    "    dot_product = np.dot(a, b)\n",
    "    norm_a = np.linalg.norm(a)\n",
    "    norm_b = np.linalg.norm(b)\n",
    "    return dot_product / (norm_a * norm_b)"
   ],
   "metadata": {
    "collapsed": false,
    "ExecuteTime": {
     "start_time": "2023-11-08T20:09:34.410269Z",
     "end_time": "2023-11-08T20:09:34.439780Z"
    }
   }
  },
  {
   "cell_type": "code",
   "execution_count": 8,
   "outputs": [
    {
     "data": {
      "text/plain": "0.9271766"
     },
     "execution_count": 8,
     "metadata": {},
     "output_type": "execute_result"
    }
   ],
   "source": [
    "cos_sim(v1, v2)"
   ],
   "metadata": {
    "collapsed": false,
    "ExecuteTime": {
     "start_time": "2023-11-08T20:09:35.377681Z",
     "end_time": "2023-11-08T20:09:35.396581Z"
    }
   }
  },
  {
   "cell_type": "code",
   "execution_count": 9,
   "outputs": [],
   "source": [
    "import pandas as pd"
   ],
   "metadata": {
    "collapsed": false,
    "ExecuteTime": {
     "start_time": "2023-11-08T20:09:46.153719Z",
     "end_time": "2023-11-08T20:09:46.177011Z"
    }
   }
  },
  {
   "cell_type": "code",
   "execution_count": 10,
   "outputs": [],
   "source": [
    "df = pd.read_csv('./features_full.csv', sep=',', encoding='utf-8')"
   ],
   "metadata": {
    "collapsed": false,
    "ExecuteTime": {
     "start_time": "2023-11-08T20:12:14.681071Z",
     "end_time": "2023-11-08T20:12:16.307959Z"
    }
   }
  },
  {
   "cell_type": "code",
   "execution_count": 12,
   "outputs": [],
   "source": [
    "df.drop('google_item_similarity', axis=1, inplace=True)"
   ],
   "metadata": {
    "collapsed": false,
    "ExecuteTime": {
     "start_time": "2023-11-08T20:12:36.110120Z",
     "end_time": "2023-11-08T20:12:36.152355Z"
    }
   }
  },
  {
   "cell_type": "code",
   "execution_count": 14,
   "outputs": [],
   "source": [
    "df.rename(columns={'spacy_item_similarity':'google_it_sim'}, inplace=True)"
   ],
   "metadata": {
    "collapsed": false,
    "ExecuteTime": {
     "start_time": "2023-11-08T20:13:32.224883Z",
     "end_time": "2023-11-08T20:13:32.249010Z"
    }
   }
  },
  {
   "cell_type": "code",
   "execution_count": 16,
   "outputs": [],
   "source": [
    "def comp_sim(earlier_items, contested_item):\n",
    "    earlier_list = earlier_items.split(';')\n",
    "    sim = 0\n",
    "    c_emb = ft.get_sentence_vector(contested_item)\n",
    "    for earlier in earlier_list:\n",
    "        e_emb = ft.get_sentence_vector(earlier)\n",
    "        curr_sim = cos_sim(c_emb, e_emb)\n",
    "        if sim < curr_sim:\n",
    "            sim = curr_sim\n",
    "    return sim"
   ],
   "metadata": {
    "collapsed": false,
    "ExecuteTime": {
     "start_time": "2023-11-08T20:16:09.877340Z",
     "end_time": "2023-11-08T20:16:09.900429Z"
    }
   }
  },
  {
   "cell_type": "code",
   "execution_count": 17,
   "outputs": [
    {
     "name": "stderr",
     "output_type": "stream",
     "text": [
      "C:\\Users\\maxha\\AppData\\Local\\Temp\\ipykernel_15520\\449332164.py:6: RuntimeWarning: invalid value encountered in float_scalars\n",
      "  return dot_product / (norm_a * norm_b)\n"
     ]
    }
   ],
   "source": [
    "for i, row in df.iterrows():\n",
    "    contested = row['Contested Goods and Services']\n",
    "    earlier = row['Earlier Goods and Services']\n",
    "    df.loc[i, 'fasttext_it_sim'] = comp_sim(earlier, contested)"
   ],
   "metadata": {
    "collapsed": false,
    "ExecuteTime": {
     "start_time": "2023-11-08T20:16:17.528167Z",
     "end_time": "2023-11-08T20:21:42.404252Z"
    }
   }
  },
  {
   "cell_type": "code",
   "execution_count": 19,
   "outputs": [],
   "source": [
    "df.to_csv('./features_full.csv', sep=',', encoding='utf-8', index=False)"
   ],
   "metadata": {
    "collapsed": false,
    "ExecuteTime": {
     "start_time": "2023-11-08T20:23:17.145780Z",
     "end_time": "2023-11-08T20:23:18.475579Z"
    }
   }
  },
  {
   "cell_type": "code",
   "execution_count": null,
   "outputs": [],
   "source": [],
   "metadata": {
    "collapsed": false
   }
  }
 ],
 "metadata": {
  "kernelspec": {
   "display_name": "Python 3",
   "language": "python",
   "name": "python3"
  },
  "language_info": {
   "codemirror_mode": {
    "name": "ipython",
    "version": 2
   },
   "file_extension": ".py",
   "mimetype": "text/x-python",
   "name": "python",
   "nbconvert_exporter": "python",
   "pygments_lexer": "ipython2",
   "version": "2.7.6"
  }
 },
 "nbformat": 4,
 "nbformat_minor": 0
}
